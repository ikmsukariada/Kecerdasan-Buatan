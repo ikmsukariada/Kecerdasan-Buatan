{
  "nbformat": 4,
  "nbformat_minor": 0,
  "metadata": {
    "colab": {
      "name": "BFS.ipynb",
      "provenance": [],
      "authorship_tag": "ABX9TyMaoMZB+i+7inp+3vAB+Q6e",
      "include_colab_link": true
    },
    "kernelspec": {
      "name": "python3",
      "display_name": "Python 3"
    },
    "language_info": {
      "name": "python"
    }
  },
  "cells": [
    {
      "cell_type": "markdown",
      "metadata": {
        "id": "view-in-github",
        "colab_type": "text"
      },
      "source": [
        "<a href=\"https://colab.research.google.com/github/ikmsukariada/Kecerdasan-Buatan/blob/main/BFS.ipynb\" target=\"_parent\"><img src=\"https://colab.research.google.com/assets/colab-badge.svg\" alt=\"Open In Colab\"/></a>"
      ]
    },
    {
      "cell_type": "code",
      "metadata": {
        "colab": {
          "base_uri": "https://localhost:8080/"
        },
        "id": "VTwkKto3ziaN",
        "outputId": "cefd8877-9e24-43e9-95a5-5903efa353f5"
      },
      "source": [
        "graph = {\n",
        "  '1' : ['4','2'],\n",
        "  '2' : ['1', '3', '8', '7', '5'],\n",
        "  '3' : ['10', '9'],\n",
        "  '4' : ['1', '3'],\n",
        "  '5' : ['2', '7', '6'],\n",
        "  '6' : ['5'],\n",
        "  '7' : ['5', '2', '8'],\n",
        "  '8' : ['2', '7'],\n",
        "  '9' : ['3'],\n",
        "  '10' : ['3']\n",
        "}\n",
        "\n",
        "visited = [] # List to keep track of visited nodes.\n",
        "queue = []     #Initialize a queue\n",
        "\n",
        "def bfs(visited, graph, node):\n",
        "  visited.append(node)\n",
        "  queue.append(node)\n",
        "\n",
        "  while queue:\n",
        "    s = queue.pop(0) \n",
        "    print (s, end = \" \") \n",
        "\n",
        "    for neighbour in graph[s]:\n",
        "      if neighbour not in visited:\n",
        "        visited.append(neighbour)\n",
        "        queue.append(neighbour)\n",
        "\n",
        "# Driver Code\n",
        "bfs(visited, graph, '1')"
      ],
      "execution_count": null,
      "outputs": [
        {
          "output_type": "stream",
          "name": "stdout",
          "text": [
            "1 4 2 3 8 7 5 10 9 6 "
          ]
        }
      ]
    }
  ]
}